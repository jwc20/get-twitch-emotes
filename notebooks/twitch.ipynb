{
 "cells": [
  {
   "cell_type": "code",
   "execution_count": 2,
   "metadata": {},
   "outputs": [
    {
     "data": {
      "text/plain": [
       "True"
      ]
     },
     "execution_count": 2,
     "metadata": {},
     "output_type": "execute_result"
    }
   ],
   "source": [
    "import json \n",
    "import requests\n",
    "import dotenv \n",
    "import os \n",
    "\n",
    "dotenv.load_dotenv()\n"
   ]
  },
  {
   "cell_type": "code",
   "execution_count": 9,
   "metadata": {},
   "outputs": [],
   "source": [
    "base_url = 'https://api.twitch.tv/helix'\n",
    "# chat_url = '/chat'\n",
    "emotes_url = '/chat/emotes'\n",
    "broadcaster_url = '?broadcaster_id='\n",
    "\n",
    "TWITCH_CLIENT_ID = os.getenv(\"TWITCH_CLIENT_ID\")\n",
    "TWITCH_CLIENT_SECRET = os.getenv(\"TWITCH_CLIENT_SECRET\")"
   ]
  },
  {
   "cell_type": "code",
   "execution_count": 18,
   "metadata": {},
   "outputs": [],
   "source": [
    "def get_twitch_channel_id(channel_name, twitch_client_id):    \n",
    "    twitch_api_url = f\"https://api.twitch.tv/helix/users?login={channel_name}\"\n",
    "    print(twitch_api_url)\n",
    "    headers = {\n",
    "        'Client-ID': twitch_client_id,\n",
    "        'Authorization': 'Bearer ' + TWITCH_CLIENT_SECRET\n",
    "    }\n",
    "    \n",
    "    response = requests.get(twitch_api_url, headers=headers)\n",
    "    if response.status_code == 200 and 'data' in response.json() and len(response.json()['data']) > 0:\n",
    "        return response.json()['data'][0]['id']\n",
    "    else:\n",
    "        return None"
   ]
  },
  {
   "cell_type": "code",
   "execution_count": 26,
   "metadata": {},
   "outputs": [],
   "source": [
    "def get_twitch_emotes_for_channel(channel_id): \n",
    "    _url = f\"{base_url}{emotes_url}{broadcaster_url}{channel_id}\"\n",
    "    # print(_url)\n",
    "    header = {\n",
    "        'Client-ID': TWITCH_CLIENT_ID,\n",
    "        'Authorization': 'Bearer ' + TWITCH_CLIENT_SECRET # use the access token in the future\n",
    "    }\n",
    "    \n",
    "    response = requests.get(_url, headers=header)\n",
    "    if response.status_code == 200 and 'data' in response.json() and len(response.json()['data']) > 0:\n",
    "        emotes = response.json()['data']\n",
    "        return emotes\n",
    "    else:\n",
    "        return None"
   ]
  },
  {
   "cell_type": "code",
   "execution_count": 27,
   "metadata": {},
   "outputs": [
    {
     "name": "stdout",
     "output_type": "stream",
     "text": [
      "https://api.twitch.tv/helix/users?login=sodapoppin\n",
      "26301881\n"
     ]
    }
   ],
   "source": [
    "channel_name = \"sodapoppin\"\n",
    "channel_id = get_twitch_channel_id(channel_name, TWITCH_CLIENT_ID)\n",
    "print(channel_id)"
   ]
  },
  {
   "cell_type": "code",
   "execution_count": 29,
   "metadata": {},
   "outputs": [],
   "source": [
    "# print(get_twitch_emotes_for_channel(channel_id))\n",
    "emote = get_twitch_emotes_for_channel(channel_id)\n",
    "\n",
    "with open(\"../data/twitch_emotes.json\", \"w\") as f:\n",
    "    json.dump(emote, f, indent=4)\n",
    "    "
   ]
  },
  {
   "cell_type": "code",
   "execution_count": null,
   "metadata": {},
   "outputs": [],
   "source": []
  }
 ],
 "metadata": {
  "kernelspec": {
   "display_name": "Python 3",
   "language": "python",
   "name": "python3"
  },
  "language_info": {
   "codemirror_mode": {
    "name": "ipython",
    "version": 3
   },
   "file_extension": ".py",
   "mimetype": "text/x-python",
   "name": "python",
   "nbconvert_exporter": "python",
   "pygments_lexer": "ipython3",
   "version": "3.11.4"
  },
  "orig_nbformat": 4
 },
 "nbformat": 4,
 "nbformat_minor": 2
}
