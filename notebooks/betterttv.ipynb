{
 "cells": [
  {
   "cell_type": "code",
   "execution_count": 1,
   "metadata": {},
   "outputs": [
    {
     "data": {
      "text/plain": [
       "True"
      ]
     },
     "execution_count": 1,
     "metadata": {},
     "output_type": "execute_result"
    }
   ],
   "source": [
    "# https://betterttv.com/developers/api#user\n",
    "\n",
    "import requests\n",
    "import websocket\n",
    "import dotenv \n",
    "import os\n",
    "import json\n",
    "\n",
    "dotenv.load_dotenv()\n"
   ]
  },
  {
   "cell_type": "code",
   "execution_count": 2,
   "metadata": {},
   "outputs": [],
   "source": [
    "base_url = \"https://api.betterttv.net/3\"\n",
    "endpoint = \"/cached/emotes/global\"\n",
    "response = requests.get(base_url + endpoint)"
   ]
  },
  {
   "cell_type": "code",
   "execution_count": 3,
   "metadata": {},
   "outputs": [],
   "source": [
    "if response.status_code == 200:\n",
    "    emotes = response.json()\n",
    "#     print(emotes)\n",
    "else:\n",
    "    print(f\"Failed to fetch emotes. Status code: {response.status_code}\")"
   ]
  },
  {
   "cell_type": "code",
   "execution_count": 4,
   "metadata": {},
   "outputs": [],
   "source": [
    "# import requests\n",
    "\n",
    "TWITCH_CLIENT_ID = os.getenv(\"TWITCH_CLIENT_ID\")\n",
    "TWITCH_CLIENT_SECRET = os.getenv(\"TWITCH_CLIENT_SECRET\")\n",
    "\n",
    "def get_twitch_channel_id(channel_name, twitch_client_id):    \n",
    "    twitch_api_url = f\"https://api.twitch.tv/helix/users?login={channel_name}\"\n",
    "    print(twitch_api_url)\n",
    "    headers = {\n",
    "        'Client-ID': twitch_client_id,\n",
    "        'Authorization': 'Bearer ' + TWITCH_CLIENT_SECRET\n",
    "    }\n",
    "    \n",
    "    response = requests.get(twitch_api_url, headers=headers)\n",
    "    if response.status_code == 200 and 'data' in response.json() and len(response.json()['data']) > 0:\n",
    "        return response.json()['data'][0]['id']\n",
    "    else:\n",
    "        return None\n",
    "\n",
    "def get_bttv_emotes_for_channel(channel_id):\n",
    "    bttv_api_url = f\"https://api.betterttv.net/3/cached/users/twitch/{channel_id}\"\n",
    "    response = requests.get(bttv_api_url)\n",
    "    if response.status_code == 200:\n",
    "        return response.json()['channelEmotes'] + response.json()['sharedEmotes']\n",
    "    else:\n",
    "        return []\n",
    "\n"
   ]
  },
  {
   "cell_type": "code",
   "execution_count": 5,
   "metadata": {},
   "outputs": [
    {
     "name": "stdout",
     "output_type": "stream",
     "text": [
      "https://api.twitch.tv/helix/users?login=sodapoppin\n",
      "26301881\n"
     ]
    }
   ],
   "source": [
    "\n",
    "channel_name = \"sodapoppin\"\n",
    "channel_id = get_twitch_channel_id(channel_name, TWITCH_CLIENT_ID)\n",
    "print(channel_id)\n",
    "if channel_id:\n",
    "    emotes = get_bttv_emotes_for_channel(channel_id)\n",
    "#     print(emotes)\n",
    "else:\n",
    "    print(f\"Failed to fetch ID for channel: {channel_name}\")"
   ]
  },
  {
   "cell_type": "code",
   "execution_count": 6,
   "metadata": {},
   "outputs": [],
   "source": [
    "# write emotes to file \n",
    "\n",
    "with open('../data/betterttv_emotes.json', 'w') as f:\n",
    "    json.dump(emotes, f, indent=4)\n",
    "    "
   ]
  },
  {
   "cell_type": "code",
   "execution_count": null,
   "metadata": {},
   "outputs": [],
   "source": []
  }
 ],
 "metadata": {
  "kernelspec": {
   "display_name": "Python 3 (ipykernel)",
   "language": "python",
   "name": "python3"
  },
  "language_info": {
   "codemirror_mode": {
    "name": "ipython",
    "version": 3
   },
   "file_extension": ".py",
   "mimetype": "text/x-python",
   "name": "python",
   "nbconvert_exporter": "python",
   "pygments_lexer": "ipython3",
   "version": "3.11.4"
  }
 },
 "nbformat": 4,
 "nbformat_minor": 2
}
